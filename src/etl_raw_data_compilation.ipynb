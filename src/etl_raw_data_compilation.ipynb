{
	"cells": [
		{
			"cell_type": "markdown",
			"id": "dc7cacd1",
			"metadata": {
				"tags": []
			},
			"source": [
				"# Setup"
			]
		},
		{
			"cell_type": "code",
			"execution_count": null,
			"id": "be8535f4-4586-4d9c-9a28-8aa44f99ab35",
			"metadata": {
				"tags": [],
				"trusted": true,
				"vscode": {
					"languageId": "python"
				}
			},
			"outputs": [],
			"source": [
				"%idle_timeout 10\n",
				"%timeout 10\n",
				"%glue_version 4.0\n",
				"%worker_type G.1X\n",
				"%number_of_workers 2"
			]
		},
		{
			"cell_type": "code",
			"execution_count": null,
			"id": "a3fea417",
			"metadata": {
				"tags": [],
				"trusted": true,
				"vscode": {
					"languageId": "python"
				}
			},
			"outputs": [],
			"source": [
				"import boto3\n",
				"import os, sys\n",
				"from awsglue.transforms import *\n",
				"from awsglue.utils import getResolvedOptions\n",
				"from pyspark.context import SparkContext\n",
				"from pyspark.sql.functions import *\n",
				"from awsglue.context import GlueContext\n",
				"from awsglue.job import Job\n",
				"  \n",
				"sc = SparkContext.getOrCreate()\n",
				"glueContext = GlueContext(sc)\n",
				"spark = glueContext.spark_session\n",
				"job = Job(glueContext)"
			]
		},
		{
			"cell_type": "code",
			"execution_count": null,
			"id": "dc96555e-0744-4af8-a54b-bd0285338888",
			"metadata": {
				"tags": [],
				"trusted": true,
				"vscode": {
					"languageId": "python"
				}
			},
			"outputs": [],
			"source": [
				"# Define data type conversion functions\n",
				"\n",
				"def cast_numeric_cols(df, numeric_cols):\n",
				"    for col_name in numeric_cols:\n",
				"        df = df.withColumn(col_name, regexp_replace(col_name, ',', '.').cast(\"float\"))\n",
				"    \n",
				"    return df\n",
				"\n",
				"\n",
				"def cast_date_cols(df, date_cols, date_fmt):\n",
				"    for col_name in date_cols:\n",
				"        df = df.withColumn(col_name, to_date(col_name, date_fmt))\n",
				"    \n",
				"    return df"
			]
		},
		{
			"cell_type": "markdown",
			"id": "247607a4-5ba8-48bd-be01-22df77dc5dda",
			"metadata": {
				"tags": []
			},
			"source": [
				"## Taxas Tesouro"
			]
		},
		{
			"cell_type": "code",
			"execution_count": null,
			"id": "7a4db5b0",
			"metadata": {
				"tags": [],
				"trusted": true,
				"vscode": {
					"languageId": "python"
				}
			},
			"outputs": [],
			"source": [
				"df = spark.read.csv(\"s3://tesouro-landing/PrecoTaxaTesouroDireto.csv\", header=True, sep=\";\")\n",
				"# df.printSchema()"
			]
		},
		{
			"cell_type": "code",
			"execution_count": null,
			"id": "473bf9ac",
			"metadata": {
				"tags": [],
				"trusted": true,
				"vscode": {
					"languageId": "python"
				}
			},
			"outputs": [],
			"source": [
				"# Convert numerical and date columns\n",
				"num_cols = df.columns[-5:]\n",
				"date_cols = [_ for _ in df.columns if _.lower().startswith('data')]\n",
				"\n",
				"df = cast_numeric_cols(df, num_cols)\n",
				"df = cast_date_cols(df, date_cols, \"dd/MM/yyyy\")\n",
				"\n",
				"# Write dataframe to parquet\n",
				"df.write.parquet(\"s3://tesouro-bronze/taxa_tesouro_direto.parquet\")"
			]
		},
		{
			"cell_type": "markdown",
			"id": "0d20c837-9d03-48d6-b5c4-87832c34a061",
			"metadata": {
				"jp-MarkdownHeadingCollapsed": true,
				"tags": []
			},
			"source": [
				"## Operacoes Tesouro"
			]
		},
		{
			"cell_type": "code",
			"execution_count": null,
			"id": "bf2edd85-c963-4d01-883f-0271aa89c360",
			"metadata": {
				"tags": [],
				"trusted": true,
				"vscode": {
					"languageId": "python"
				}
			},
			"outputs": [],
			"source": [
				"df = spark.read.csv(\"s3://tesouro-landing/OperacoesTesouroDireto.csv\", header=True, sep=\";\")\n",
				"# df.printSchema()"
			]
		},
		{
			"cell_type": "code",
			"execution_count": null,
			"id": "d444e7c0-bcfa-4ba5-abc6-870bd323cfba",
			"metadata": {
				"tags": [],
				"trusted": true,
				"vscode": {
					"languageId": "python"
				}
			},
			"outputs": [],
			"source": [
				"# Convert numerical and date columns\n",
				"num_cols = [\"Quantidade\", \"Valor do Titulo\", \"Valor da Operacao\"]\n",
				"date_cols = [\"Data da Operacao\", \"Vencimento do Titulo\"]\n",
				"\n",
				"df = cast_numeric_cols(df, num_cols)\n",
				"df = cast_date_cols(df, date_cols, \"dd/MM/yyyy\")\n",
				"\n",
				"# Write dataframe to parquet\n",
				"df.write.parquet(\"s3://tesouro-bronze/operacoes_tesouro_direto.parquet\")"
			]
		},
		{
			"cell_type": "markdown",
			"id": "7e6b4637-f5f3-4aa3-9b0c-d397f1bcd78c",
			"metadata": {
				"jp-MarkdownHeadingCollapsed": true,
				"tags": []
			},
			"source": [
				"## Investidores Tesouro"
			]
		},
		{
			"cell_type": "code",
			"execution_count": null,
			"id": "5b15b964-57f4-418d-bc67-67f31e2d0483",
			"metadata": {
				"tags": [],
				"trusted": true,
				"vscode": {
					"languageId": "python"
				}
			},
			"outputs": [],
			"source": [
				"s3 = boto3.client('s3')\n",
				"\n",
				"# Define bucket and prefix\n",
				"bucket_name = \"tesouro-landing\"\n",
				"prefix = \"InvestidoresTesouroDireto\"\n",
				"\n",
				"# List objects in the bucket with the specific prefix\n",
				"response = s3.list_objects_v2(Bucket=bucket_name, Prefix=prefix)\n",
				"files = [f\"s3a://{bucket_name}/{obj['Key']}\" for obj in response.get('Contents', [])]"
			]
		},
		{
			"cell_type": "code",
			"execution_count": null,
			"id": "ceeb08eb-c10c-4dcb-bd77-de29c1668f59",
			"metadata": {
				"tags": [],
				"trusted": true,
				"vscode": {
					"languageId": "python"
				}
			},
			"outputs": [],
			"source": [
				"df = spark.read.csv(files, header=True, sep=\";\")\n",
				"# df.printSchema()"
			]
		},
		{
			"cell_type": "code",
			"execution_count": null,
			"id": "8ef404db-a19d-4eba-9742-566afc58feab",
			"metadata": {
				"tags": [],
				"trusted": true,
				"vscode": {
					"languageId": "python"
				}
			},
			"outputs": [],
			"source": [
				"# Convert numerical and date columns\n",
				"date_cols = [\"Data de Adesao\"]\n",
				"\n",
				"df = cast_date_cols(df, date_cols, \"dd/MM/yyyy\")\n",
				"df = df.withColumn('Idade', col('Idade').cast('integer'))\n",
				"\n",
				"# Write dataframe to parquet\n",
				"df.write.parquet(\"s3://tesouro-bronze/investidores_tesouro_direto.parquet\")"
			]
		}
	],
	"metadata": {
		"kernelspec": {
			"display_name": "Glue PySpark",
			"language": "python",
			"name": "glue_pyspark"
		},
		"language_info": {
			"codemirror_mode": {
				"name": "python",
				"version": 3
			},
			"file_extension": ".py",
			"mimetype": "text/x-python",
			"name": "Python_Glue_Session",
			"pygments_lexer": "python3"
		},
		"toc-autonumbering": true,
		"toc-showcode": false,
		"toc-showmarkdowntxt": true
	},
	"nbformat": 4,
	"nbformat_minor": 5
}
